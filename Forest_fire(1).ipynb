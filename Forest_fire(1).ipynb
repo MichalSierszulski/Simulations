{
  "nbformat": 4,
  "nbformat_minor": 0,
  "metadata": {
    "colab": {
      "name": "Forest fire.ipynb",
      "provenance": []
    },
    "kernelspec": {
      "name": "python3",
      "display_name": "Python 3"
    },
    "language_info": {
      "name": "python"
    }
  },
  "cells": [
    {
      "cell_type": "code",
      "metadata": {
        "id": "gRvKrkS9mjnr"
      },
      "source": [
        "import numpy as np\n",
        "import numpy.ma as ma\n",
        "\n",
        "from matplotlib import pyplot as plt,cm\n",
        "from matplotlib.colors import ListedColormap\n"
      ],
      "execution_count": 4,
      "outputs": []
    },
    {
      "cell_type": "code",
      "metadata": {
        "id": "eC-4V67FnoPH"
      },
      "source": [
        "def flatten(x):\n",
        "    #useful later on\n",
        "    return [item for sublist in x for item in sublist]"
      ],
      "execution_count": 5,
      "outputs": []
    },
    {
      "cell_type": "markdown",
      "metadata": {
        "id": "PwZyPwsM9fNP"
      },
      "source": [
        "# Model implementation "
      ]
    },
    {
      "cell_type": "markdown",
      "metadata": {
        "id": "QWIbbCLg96L5"
      },
      "source": [
        "We're going to introduce a bunch of funtions, useful for performing our simulations and visualizing them. We'll be representing forests via numpy arrays with 0 values meaning empty fields, 1s representing trees and -1 standing for burning areas. "
      ]
    },
    {
      "cell_type": "code",
      "metadata": {
        "id": "yntsXYSioHhm"
      },
      "source": [
        "def plot_forest(forest):\n",
        "\n",
        "  #show a matrix representing a forest at a given moment via a plot\n",
        "\n",
        "  #burned tree -> red; empty field -> white; tree -> green  \n",
        "  cmap = ListedColormap(['white'])\n",
        "  cmap.set_under('red')\n",
        "  cmap.set_over('green')\n",
        "  \n",
        "  plt.figure(figsize=[15,15])    #arbitrary figsize\n",
        "  plt.matshow(forest,cmap=cmap,vmin=-0.5,vmax=0.5)\n",
        "  plt.show()\n"
      ],
      "execution_count": 6,
      "outputs": []
    },
    {
      "cell_type": "code",
      "metadata": {
        "id": "FYnecXtsmn9n"
      },
      "source": [
        "def initialize_forest(L,p):\n",
        "  \n",
        "  #create a matrix representing a forest at time=0\n",
        "\n",
        "  forest = (np.random.rand(L,L) <= p).astype(int)    #LxL lattice with a tree(represented by 1) at each cell with prob. p and an empty cell(represented by 0) with prob 1-p\n",
        "  forest[:,0] = -1    #starting with fire at one edge - setting a convention of starting at the left one\n",
        "\n",
        "  return forest"
      ],
      "execution_count": 7,
      "outputs": []
    },
    {
      "cell_type": "markdown",
      "metadata": {
        "id": "ANrKqR7d-4ZM"
      },
      "source": [
        "Let's take a look at an example starting forest to check if everything seems ok."
      ]
    },
    {
      "cell_type": "code",
      "metadata": {
        "colab": {
          "base_uri": "https://localhost:8080/",
          "height": 292
        },
        "id": "C8cav486rlUa",
        "outputId": "f6a4a191-4c84-4f2c-d1c8-e5001de50224"
      },
      "source": [
        "L = 20\n",
        "p = 0.8\n",
        "\n",
        "forest = initialize_forest(L,p)\n",
        "plot_forest(forest)"
      ],
      "execution_count": 8,
      "outputs": [
        {
          "output_type": "display_data",
          "data": {
            "text/plain": [
              "<Figure size 1080x1080 with 0 Axes>"
            ]
          },
          "metadata": {}
        },
        {
          "output_type": "display_data",
          "data": {
            "image/png": "[encoded data removed]",
            "text/plain": [
              "<Figure size 288x288 with 1 Axes>"
            ]
          },
          "metadata": {
            "needs_background": "light"
          }
        }
      ]
    },
    {
      "cell_type": "markdown",
      "metadata": {
        "id": "e8sBGbjs_Az3"
      },
      "source": [
        "Looks good.\n",
        "\n",
        "\n",
        " Let's move on to coding the transformation of given forest to the forest after a time unit."
      ]
    },
    {
      "cell_type": "code",
      "metadata": {
        "id": "D7Rf0XGGeUSx"
      },
      "source": [
        "def neighbors(a, rowNumber, columnNumber):\n",
        "     #checking for surroundings of a cell, for the \"fire transfers to neighbors\" rule \n",
        "     return [[a[i][j] if  i >= 0 and i < len(a) and j >= 0 and j < len(a[0]) else 0\n",
        "                for j in range(columnNumber-1-1, columnNumber+1)]\n",
        "                    for i in range(rowNumber-1-1, rowNumber+1)]"
      ],
      "execution_count": 10,
      "outputs": []
    },
    {
      "cell_type": "markdown",
      "metadata": {
        "id": "iKmRyd5oAlZU"
      },
      "source": [
        "For the sake of coding the tranformation of the forest at each time step we make the observation that each cell fits into one of the following cases, which determine its state at the next time step:\n",
        "\n",
        " \n",
        "\n",
        "1.   Burning area -> Empty area\n",
        "2.   Tree with a burning cell nearby -> Burning area\n",
        "3.   Neither of the above -> The same state as at the previous time step\n",
        "\n",
        "We compute a boolean matrix for each of these conditions, then we multiply these matrixes element-wise by coresponding matrixes of desired values(zeros, ones and previous forest). This gives us arrays of desired values in given cases at the cells where the case occurs and zeros otherwise. Then we  sum up these three to obtain the next forest.\n",
        "\n"
      ]
    },
    {
      "cell_type": "code",
      "metadata": {
        "id": "mUcUopGQi4md"
      },
      "source": [
        "def cond_1(forest):\n",
        "  \n",
        "  #check which cells are burning(and shall be transformed into empty cells)\n",
        "  \n",
        "  return (forest == -1).astype(int)\n",
        "\n",
        "def cond_2(forest):\n",
        "  \n",
        "  #check which cells are occupied by trees and have a burning neighbor(and shall be tranformed into burning cells)\n",
        "  \n",
        "  mask_2 = np.zeros(forest.shape)\n",
        "  for i in range(len(forest)):\n",
        "    for j in range(len(forest)):\n",
        "      mask_2[i,j] = forest[i,j]==1 and -1 in flatten(neighbors(forest,i+1,j+1))\n",
        "  \n",
        "  return mask_2\n",
        "\n",
        "def cond_3(mask_1,mask_2):\n",
        "  \n",
        "  #check which cells do not fit to any of the precious citeria(and thus shall remain in the same state)\n",
        "\n",
        "  return ((~mask_1.astype(bool)) * (~mask_2.astype(bool))).astype(int)\n"
      ],
      "execution_count": 8,
      "outputs": []
    },
    {
      "cell_type": "markdown",
      "metadata": {
        "id": "kqBUN9LPdBeU"
      },
      "source": [
        "Let's visually check if the calculations are correct for an example forest and if each cell is classified into one (and one only) case."
      ]
    },
    {
      "cell_type": "code",
      "metadata": {
        "colab": {
          "base_uri": "https://localhost:8080/",
          "height": 1000
        },
        "id": "85ye2upjody5",
        "outputId": "8c2fcbe2-2c90-4329-d8ab-4e77ff0c1a81"
      },
      "source": [
        "forest = initialize_forest(20,0.6)\n",
        "mask_1 = cond_1(forest)\n",
        "mask_2 = cond_2(forest)\n",
        "mask_3 = cond_3(mask_1,mask_2)\n",
        "\n",
        "plot_forest(forest)     #plot the original forest\n",
        "plot_forest(mask_1)     #green for the first case\n",
        "plot_forest(mask_2)     #green for the second case\n",
        "plot_forest(mask_3)     #green for the third case\n",
        "print(mask_1.sum() + mask_2.sum() + mask_3.sum() == len(forest)**2)     #do all the trues sum up to the number of cells?"
      ],
      "execution_count": 11,
      "outputs": [
        {
          "output_type": "display_data",
          "data": {
            "text/plain": [
              "<Figure size 1080x1080 with 0 Axes>"
            ]
          },
          "metadata": {}
        },
        {
          "output_type": "display_data",
          "data": {
            "image/png": "[encoded data removed]",
            "text/plain": [
              "<Figure size 288x288 with 1 Axes>"
            ]
          },
          "metadata": {
            "needs_background": "light"
          }
        },
        {
          "output_type": "display_data",
          "data": {
            "text/plain": [
              "<Figure size 1080x1080 with 0 Axes>"
            ]
          },
          "metadata": {}
        },
        {
          "output_type": "display_data",
          "data": {
            "image/png": "[encoded data removed]",
            "text/plain": [
              "<Figure size 288x288 with 1 Axes>"
            ]
          },
          "metadata": {
            "needs_background": "light"
          }
        },
        {
          "output_type": "display_data",
          "data": {
            "text/plain": [
              "<Figure size 1080x1080 with 0 Axes>"
            ]
          },
          "metadata": {}
        },
        {
          "output_type": "display_data",
          "data": {
            "image/png": "[encoded data removed]",
            "text/plain": [
              "<Figure size 288x288 with 1 Axes>"
            ]
          },
          "metadata": {
            "needs_background": "light"
          }
        },
        {
          "output_type": "display_data",
          "data": {
            "text/plain": [
              "<Figure size 1080x1080 with 0 Axes>"
            ]
          },
          "metadata": {}
        },
        {
          "output_type": "display_data",
          "data": {
            "image/png": "[encoded data removed]",
            "text/plain": [
              "<Figure size 288x288 with 1 Axes>"
            ]
          },
          "metadata": {
            "needs_background": "light"
          }
        },
        {
          "output_type": "stream",
          "name": "stdout",
          "text": [
            "True\n"
          ]
        }
      ]
    },
    {
      "cell_type": "markdown",
      "metadata": {
        "id": "60_PoUG9dqZo"
      },
      "source": [
        "We're finally ready to write the funtion taking a forest at time t and return the forest arising at time t+1"
      ]
    },
    {
      "cell_type": "code",
      "metadata": {
        "id": "ZkGfWCdzWWoY"
      },
      "source": [
        "def update_forest(forest):\n",
        "\n",
        "  mask_1 = cond_1(forest)\n",
        "  mask_2 = cond_2(forest)\n",
        "  mask_3 = cond_3(mask_1,mask_2)\n",
        "\n",
        "  burned_trees = mask_1*np.zeros(forest.shape)\n",
        "  ignited_trees = mask_2 * (-np.ones(forest.shape))\n",
        "  unchanged_forest = mask_3*forest\n",
        "\n",
        "  updated_forest = burned_trees + ignited_trees + unchanged_forest\n",
        "\n",
        "  return updated_forest"
      ],
      "execution_count": 12,
      "outputs": []
    },
    {
      "cell_type": "markdown",
      "metadata": {
        "id": "zavcPCusd7iA"
      },
      "source": [
        "Let's see this in action by plotting one entire run:"
      ]
    },
    {
      "cell_type": "code",
      "metadata": {
        "colab": {
          "base_uri": "https://localhost:8080/",
          "height": 1000
        },
        "id": "WWIToSR8Xdt6",
        "outputId": "9d02055f-d6e3-42c9-801f-8603436bd321"
      },
      "source": [
        "L,p = 20,0.6\n",
        "\n",
        "\n",
        "forest = initialize_forest(L,p)\n",
        "plot_forest(forest)\n",
        "\n",
        "while -1 in forest:   #while there is a fire\n",
        "  \n",
        "  forest = update_forest(forest)\n",
        "  plot_forest(forest)"
      ],
      "execution_count": 13,
      "outputs": [
        {
          "output_type": "display_data",
          "data": {
            "text/plain": [
              "<Figure size 1080x1080 with 0 Axes>"
            ]
          },
          "metadata": {}
        },
        {
          "output_type": "display_data",
          "data": {
            "image/png": "[encoded data removed]",
            "text/plain": [
              "<Figure size 288x288 with 1 Axes>"
            ]
          },
          "metadata": {
            "needs_background": "light"
          }
        },
        {
          "output_type": "display_data",
          "data": {
            "text/plain": [
              "<Figure size 1080x1080 with 0 Axes>"
            ]
          },
          "metadata": {}
        },
        {
          "output_type": "display_data",
          "data": {
            "image/png": "[encoded data removed]",
            "text/plain": [
              "<Figure size 288x288 with 1 Axes>"
            ]
          },
          "metadata": {
            "needs_background": "light"
          }
        },
        {
          "output_type": "display_data",
          "data": {
            "text/plain": [
              "<Figure size 1080x1080 with 0 Axes>"
            ]
          },
          "metadata": {}
        },
        {
          "output_type": "display_data",
          "data": {
            "image/png": "[encoded data removed]",
            "text/plain": [
              "<Figure size 288x288 with 1 Axes>"
            ]
          },
          "metadata": {
            "needs_background": "light"
          }
        },
        {
          "output_type": "display_data",
          "data": {
            "text/plain": [
              "<Figure size 1080x1080 with 0 Axes>"
            ]
          },
          "metadata": {}
        },
        {
          "output_type": "display_data",
          "data": {
            "image/png": "[encoded data removed]",
            "text/plain": [
              "<Figure size 288x288 with 1 Axes>"
            ]
          },
          "metadata": {
            "needs_background": "light"
          }
        },
        {
          "output_type": "display_data",
          "data": {
            "text/plain": [
              "<Figure size 1080x1080 with 0 Axes>"
            ]
          },
          "metadata": {}
        },
        {
          "output_type": "display_data",
          "data": {
            "image/png": "[encoded data removed]",
            "text/plain": [
              "<Figure size 288x288 with 1 Axes>"
            ]
          },
          "metadata": {
            "needs_background": "light"
          }
        },
        {
          "output_type": "display_data",
          "data": {
            "text/plain": [
              "<Figure size 1080x1080 with 0 Axes>"
            ]
          },
          "metadata": {}
        },
        {
          "output_type": "display_data",
          "data": {
            "image/png": "[encoded data removed]",
            "text/plain": [
              "<Figure size 288x288 with 1 Axes>"
            ]
          },
          "metadata": {
            "needs_background": "light"
          }
        },
        {
          "output_type": "display_data",
          "data": {
            "text/plain": [
              "<Figure size 1080x1080 with 0 Axes>"
            ]
          },
          "metadata": {}
        },
        {
          "output_type": "display_data",
          "data": {
            "image/png": "[encoded data removed]",
            "text/plain": [
              "<Figure size 288x288 with 1 Axes>"
            ]
          },
          "metadata": {
            "needs_background": "light"
          }
        },
        {
          "output_type": "display_data",
          "data": {
            "text/plain": [
              "<Figure size 1080x1080 with 0 Axes>"
            ]
          },
          "metadata": {}
        },
        {
          "output_type": "display_data",
          "data": {
            "image/png": "[encoded data removed]",
            "text/plain": [
              "<Figure size 288x288 with 1 Axes>"
            ]
          },
          "metadata": {
            "needs_background": "light"
          }
        },
        {
          "output_type": "display_data",
          "data": {
            "text/plain": [
              "<Figure size 1080x1080 with 0 Axes>"
            ]
          },
          "metadata": {}
        },
        {
          "output_type": "display_data",
          "data": {
            "image/png": "[encoded data removed]",
            "text/plain": [
              "<Figure size 288x288 with 1 Axes>"
            ]
          },
          "metadata": {
            "needs_background": "light"
          }
        },
        {
          "output_type": "display_data",
          "data": {
            "text/plain": [
              "<Figure size 1080x1080 with 0 Axes>"
            ]
          },
          "metadata": {}
        },
        {
          "output_type": "display_data",
          "data": {
            "image/png": "[encoded data removed]",
            "text/plain": [
              "<Figure size 288x288 with 1 Axes>"
            ]
          },
          "metadata": {
            "needs_background": "light"
          }
        },
        {
          "output_type": "display_data",
          "data": {
            "text/plain": [
              "<Figure size 1080x1080 with 0 Axes>"
            ]
          },
          "metadata": {}
        },
        {
          "output_type": "display_data",
          "data": {
            "image/png": "[encoded data removed]",
            "text/plain": [
              "<Figure size 288x288 with 1 Axes>"
            ]
          },
          "metadata": {
            "needs_background": "light"
          }
        },
        {
          "output_type": "display_data",
          "data": {
            "text/plain": [
              "<Figure size 1080x1080 with 0 Axes>"
            ]
          },
          "metadata": {}
        },
        {
          "output_type": "display_data",
          "data": {
            "image/png": "[encoded data removed]",
            "text/plain": [
              "<Figure size 288x288 with 1 Axes>"
            ]
          },
          "metadata": {
            "needs_background": "light"
          }
        },
        {
          "output_type": "display_data",
          "data": {
            "text/plain": [
              "<Figure size 1080x1080 with 0 Axes>"
            ]
          },
          "metadata": {}
        },
        {
          "output_type": "display_data",
          "data": {
            "image/png": "[encoded data removed]",
            "text/plain": [
              "<Figure size 288x288 with 1 Axes>"
            ]
          },
          "metadata": {
            "needs_background": "light"
          }
        },
        {
          "output_type": "display_data",
          "data": {
            "text/plain": [
              "<Figure size 1080x1080 with 0 Axes>"
            ]
          },
          "metadata": {}
        },
        {
          "output_type": "display_data",
          "data": {
            "image/png": "[encoded data removed]",
            "text/plain": [
              "<Figure size 288x288 with 1 Axes>"
            ]
          },
          "metadata": {
            "needs_background": "light"
          }
        },
        {
          "output_type": "display_data",
          "data": {
            "text/plain": [
              "<Figure size 1080x1080 with 0 Axes>"
            ]
          },
          "metadata": {}
        },
        {
          "output_type": "display_data",
          "data": {
            "image/png": "[encoded data removed]",
            "text/plain": [
              "<Figure size 288x288 with 1 Axes>"
            ]
          },
          "metadata": {
            "needs_background": "light"
          }
        },
        {
          "output_type": "display_data",
          "data": {
            "text/plain": [
              "<Figure size 1080x1080 with 0 Axes>"
            ]
          },
          "metadata": {}
        },
        {
          "output_type": "display_data",
          "data": {
            "image/png": "[encoded data removed]",
            "text/plain": [
              "<Figure size 288x288 with 1 Axes>"
            ]
          },
          "metadata": {
            "needs_background": "light"
          }
        },
        {
          "output_type": "display_data",
          "data": {
            "text/plain": [
              "<Figure size 1080x1080 with 0 Axes>"
            ]
          },
          "metadata": {}
        },
        {
          "output_type": "display_data",
          "data": {
            "image/png": "[encoded data removed]",
            "text/plain": [
              "<Figure size 288x288 with 1 Axes>"
            ]
          },
          "metadata": {
            "needs_background": "light"
          }
        },
        {
          "output_type": "display_data",
          "data": {
            "text/plain": [
              "<Figure size 1080x1080 with 0 Axes>"
            ]
          },
          "metadata": {}
        },
        {
          "output_type": "display_data",
          "data": {
            "image/png": "[encoded data removed]",
            "text/plain": [
              "<Figure size 288x288 with 1 Axes>"
            ]
          },
          "metadata": {
            "needs_background": "light"
          }
        },
        {
          "output_type": "display_data",
          "data": {
            "text/plain": [
              "<Figure size 1080x1080 with 0 Axes>"
            ]
          },
          "metadata": {}
        },
        {
          "output_type": "display_data",
          "data": {
            "image/png": "[encoded data removed]",
            "text/plain": [
              "<Figure size 288x288 with 1 Axes>"
            ]
          },
          "metadata": {
            "needs_background": "light"
          }
        },
        {
          "output_type": "display_data",
          "data": {
            "text/plain": [
              "<Figure size 1080x1080 with 0 Axes>"
            ]
          },
          "metadata": {}
        },
        {
          "output_type": "display_data",
          "data": {
            "image/png": "[encoded data removed]",
            "text/plain": [
              "<Figure size 288x288 with 1 Axes>"
            ]
          },
          "metadata": {
            "needs_background": "light"
          }
        },
        {
          "output_type": "display_data",
          "data": {
            "text/plain": [
              "<Figure size 1080x1080 with 0 Axes>"
            ]
          },
          "metadata": {}
        },
        {
          "output_type": "display_data",
          "data": {
            "image/png": "[encoded data removed]",
            "text/plain": [
              "<Figure size 288x288 with 1 Axes>"
            ]
          },
          "metadata": {
            "needs_background": "light"
          }
        },
        {
          "output_type": "display_data",
          "data": {
            "text/plain": [
              "<Figure size 1080x1080 with 0 Axes>"
            ]
          },
          "metadata": {}
        },
        {
          "output_type": "display_data",
          "data": {
            "image/png": "[encoded data removed]",
            "text/plain": [
              "<Figure size 288x288 with 1 Axes>"
            ]
          },
          "metadata": {
            "needs_background": "light"
          }
        },
        {
          "output_type": "display_data",
          "data": {
            "text/plain": [
              "<Figure size 1080x1080 with 0 Axes>"
            ]
          },
          "metadata": {}
        },
        {
          "output_type": "display_data",
          "data": {
            "image/png": "[encoded data removed]",
            "text/plain": [
              "<Figure size 288x288 with 1 Axes>"
            ]
          },
          "metadata": {
            "needs_background": "light"
          }
        }
      ]
    },
    {
      "cell_type": "markdown",
      "metadata": {
        "id": "pCveRqLZeTIE"
      },
      "source": [
        "# Percolation threshold"
      ]
    },
    {
      "cell_type": "code",
      "metadata": {
        "id": "G3ZzEaveXnmo"
      },
      "source": [
        "def monte_carlo_iteration(L,p):\n",
        "\n",
        "  forest = initialize_forest(L,p)\n",
        "  success = False   #has fired reached the opposite edge?\n",
        "\n",
        "  while -1 in forest and not success:     #while there is a fire and it hasn't reached the goal yet\n",
        "\n",
        "    if -1 in forest[:,L-1]:\n",
        "      success = True\n",
        "    forest = update_forest(forest)\n",
        "\n",
        "  return success\n",
        "\n",
        "def p_estimation(L,p,num_of_iterations):\n",
        "\n",
        "  results = []\n",
        "  \n",
        "  while len(results)<num_of_iterations:\n",
        "\n",
        "    result = monte_carlo_iteration(L,p)\n",
        "    results.append(result)\n",
        "\n",
        "  results = np.array(results).astype(int)\n",
        "\n",
        "  return results "
      ],
      "execution_count": 60,
      "outputs": []
    },
    {
      "cell_type": "code",
      "metadata": {
        "id": "WYFZviJmhGEx"
      },
      "source": [
        "L = 20\n",
        "p = 0.5\n",
        "num_of_iterations = 1000\n",
        "\n",
        "first_results = p_estimation(L,p,num_of_iterations)"
      ],
      "execution_count": 63,
      "outputs": []
    },
    {
      "cell_type": "code",
      "metadata": {
        "colab": {
          "base_uri": "https://localhost:8080/"
        },
        "id": "C8x3DtlOhS5T",
        "outputId": "61b78336-968a-444f-a7da-d9d11d9097bf"
      },
      "source": [
        "np.mean(first_results)"
      ],
      "execution_count": 64,
      "outputs": [
        {
          "output_type": "execute_result",
          "data": {
            "text/plain": [
              "0.945"
            ]
          },
          "metadata": {},
          "execution_count": 64
        }
      ]
    },
    {
      "cell_type": "code",
      "metadata": {
        "id": "QwvQHfJGlZqp"
      },
      "source": [
        ""
      ],
      "execution_count": null,
      "outputs": []
    }
  ]
}